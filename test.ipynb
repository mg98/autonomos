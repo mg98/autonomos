{
 "cells": [
  {
   "cell_type": "code",
   "execution_count": 1,
   "metadata": {},
   "outputs": [
    {
     "name": "stdout",
     "output_type": "stream",
     "text": [
      "Size of ctrs 120\n"
     ]
    },
    {
     "data": {
      "text/plain": [
       "0.1464285714285714"
      ]
     },
     "execution_count": 1,
     "metadata": {},
     "output_type": "execute_result"
    }
   ],
   "source": [
    "from autonomos.utils.cache import Cache\n",
    "from autonomos.utils.db import get_ctrs\n",
    "from autonomos.dart.rank import evaluate, tracincp_valuation\n",
    "from autonomos.dart.utils import split_dataset_by_qids\n",
    "from allrank.config import Config\n",
    "from autonomos.dart.types import SplitDataset\n",
    "from autonomos.utils.attack import poison_ctrs, flip_label\n",
    "import torch\n",
    "import numpy as np\n",
    "import random\n",
    "from autonomos.datasets.aol import load_dataset\n",
    "\n",
    "random.seed(42)\n",
    "np.random.seed(42)\n",
    "torch.manual_seed(42)\n",
    "torch.cuda.manual_seed(42)\n",
    "if hasattr(torch, 'mps'):\n",
    "    torch.mps.manual_seed(42)\n",
    "torch.backends.cudnn.deterministic = True\n",
    "torch.backends.cudnn.benchmark = False\n",
    "\n",
    "config = Config.from_json(\"./allRank_config.json\")\n",
    "cache = Cache()\n",
    "\n",
    "# df = load_dataset()\n",
    "# cache.set(\"user_ids\", df['user_id'].unique())\n",
    "\n",
    "user_ids = cache.get(\"user_ids\")\n",
    "user_id = user_ids[0]\n",
    "ctrs = get_ctrs(user_id)\n",
    "print(\"Size of ctrs\", len(ctrs))\n",
    "ds = split_dataset_by_qids(ctrs, train_ratio=1/3, val_ratio=1/3)\n",
    "\n",
    "evaluate(config, ds)"
   ]
  },
  {
   "cell_type": "code",
   "execution_count": 7,
   "metadata": {},
   "outputs": [
    {
     "data": {
      "text/plain": [
       "{'good_user_1': 6.256150793650794,\n",
       " 'good_user_2': 2.366170634920635,\n",
       " 'good_user_3': 27.91061507936508,\n",
       " 'good_user_4': 8.565079365079361,\n",
       " 'good_user_5': 21.866567460317466,\n",
       " 'evil_user_1': -4.5683531746031765,\n",
       " 'evil_user_2': 0.3626984126984119,\n",
       " 'evil_user_3': -6.341369047619047,\n",
       " 'evil_user_4': 0.2729166666666671,\n",
       " 'evil_user_5': 4.775793650793651}"
      ]
     },
     "execution_count": 7,
     "metadata": {},
     "output_type": "execute_result"
    }
   ],
   "source": [
    "from autonomos.dart.rank import shapley_valuation\n",
    "\n",
    "shapley_valuation(config, ds, {\n",
    "    'good_user_1': get_ctrs(user_ids[1]),\n",
    "    'good_user_2': get_ctrs(user_ids[2]),\n",
    "    'good_user_3': get_ctrs(user_ids[3]),\n",
    "    'good_user_4': get_ctrs(user_ids[4]),\n",
    "    'good_user_5': get_ctrs(user_ids[10]),\n",
    "    'evil_user_1': poison_ctrs(flip_label, get_ctrs(user_ids[5])),\n",
    "    'evil_user_2': poison_ctrs(flip_label, get_ctrs(user_ids[6])),\n",
    "    'evil_user_3': poison_ctrs(flip_label, get_ctrs(user_ids[7])),\n",
    "    'evil_user_4': poison_ctrs(flip_label, get_ctrs(user_ids[8])),\n",
    "    'evil_user_5': poison_ctrs(flip_label, get_ctrs(user_ids[9])),\n",
    "}, 100)"
   ]
  },
  {
   "cell_type": "code",
   "execution_count": 2,
   "metadata": {},
   "outputs": [
    {
     "data": {
      "text/plain": [
       "0.18725749559082894"
      ]
     },
     "execution_count": 2,
     "metadata": {},
     "output_type": "execute_result"
    }
   ],
   "source": [
    "evil_ctrs = poison_ctrs(flip_label, get_ctrs(user_ids[1]))\n",
    "\n",
    "mixed_ds = SplitDataset(\n",
    "    train=ds.train + evil_ctrs + get_ctrs(user_ids[2]),\n",
    "    vali=ds.vali,\n",
    "    test=ds.test\n",
    ")\n",
    "evaluate(config, mixed_ds)"
   ]
  },
  {
   "cell_type": "code",
   "execution_count": 3,
   "metadata": {},
   "outputs": [],
   "source": [
    "import torch\n",
    "from torch.utils.data import DataLoader\n",
    "from autonomos.dart.rank import loss_batch_gradients\n",
    "from autonomos.dart.types import SplitDataset, ClickThroughRecord\n",
    "from allrank.config import Config\n",
    "from autonomos.dart.rank import Model\n",
    "import shutil\n",
    "import uuid\n",
    "import os\n",
    "from copy import deepcopy\n",
    "from autonomos.dart.utils import write_records, normalize_features\n",
    "from allrank.models.model_utils import get_torch_device\n",
    "from tqdm import tqdm\n",
    "from typing import List, Dict, Type\n",
    "from torch import Tensor\n",
    "\n",
    "user_ds = ds\n",
    "candidate_datasets = {\n",
    "    'good1': get_ctrs(user_ids[2]),\n",
    "    'good2': get_ctrs(user_ids[3]),\n",
    "    'evil': evil_ctrs,\n",
    "    'good3': get_ctrs(user_ids[4])\n",
    "}\n",
    "\n",
    "config = deepcopy(config)\n",
    "dataset_path = f'.tmp/{uuid.uuid4().hex}'\n",
    "\n",
    "mapped_train_ctrs = [\n",
    "    (user_id, ctr) for user_id in candidate_datasets for ctr in candidate_datasets[user_id]\n",
    "]\n",
    "mapped_train_ctrs.extend([\n",
    "    ('0', ctr) for ctr in user_ds.train\n",
    "])\n",
    "\n",
    "ds_split = SplitDataset(\n",
    "    train=[ctr for _, ctr in mapped_train_ctrs],\n",
    "    vali=user_ds.vali,\n",
    "    test=user_ds.test\n",
    ")\n",
    "ds_split.shuffle()\n",
    "write_records(dataset_path, ds_split)\n",
    "normalize_features(dataset_path)\n",
    "config.data.path = os.path.join(dataset_path, '_normalized')\n",
    "\n",
    "dart = Model(config)\n",
    "shutil.rmtree(dataset_path)\n",
    "result = dart.train(trace=True)\n",
    "checkpoints = result['checkpoints']"
   ]
  },
  {
   "cell_type": "code",
   "execution_count": 4,
   "metadata": {},
   "outputs": [
    {
     "name": "stderr",
     "output_type": "stream",
     "text": [
      "--> Precompute test gradients using checkpoints: 33it [00:26,  1.25it/s]\n"
     ]
    },
    {
     "name": "stdout",
     "output_type": "stream",
     "text": [
      "Warning: Expected 180 precomputed test document gradients (queries * slate_length), but found 153. Check test dataloader or precompute_test_gradients if error persists.\n"
     ]
    },
    {
     "name": "stderr",
     "output_type": "stream",
     "text": [
      "--> Calculate train influences (per doc)...:   5%|▌         | 1/19 [00:23<07:10, 23.90s/it]"
     ]
    },
    {
     "name": "stdout",
     "output_type": "stream",
     "text": [
      "Warning: Inconsistent number of test documents found for slice [0:160] across checkpoints (e.g., 153 vs 131). Skipping test batch 0.\n",
      "Warning: Checkpoint 0 returned 0 test documents for slice [160:180]. Skipping test batch 1.\n"
     ]
    },
    {
     "name": "stderr",
     "output_type": "stream",
     "text": [
      "--> Calculate train influences (per doc)...:  11%|█         | 2/19 [00:48<06:49, 24.10s/it]"
     ]
    },
    {
     "name": "stdout",
     "output_type": "stream",
     "text": [
      "Warning: Inconsistent number of test documents found for slice [0:160] across checkpoints (e.g., 153 vs 131). Skipping test batch 0.\n",
      "Warning: Checkpoint 0 returned 0 test documents for slice [160:180]. Skipping test batch 1.\n"
     ]
    },
    {
     "name": "stderr",
     "output_type": "stream",
     "text": [
      "--> Calculate train influences (per doc)...:  16%|█▌        | 3/19 [01:12<06:28, 24.30s/it]"
     ]
    },
    {
     "name": "stdout",
     "output_type": "stream",
     "text": [
      "Warning: Inconsistent number of test documents found for slice [0:160] across checkpoints (e.g., 153 vs 131). Skipping test batch 0.\n",
      "Warning: Checkpoint 0 returned 0 test documents for slice [160:180]. Skipping test batch 1.\n"
     ]
    },
    {
     "name": "stderr",
     "output_type": "stream",
     "text": [
      "--> Calculate train influences (per doc)...:  21%|██        | 4/19 [01:36<06:00, 24.06s/it]"
     ]
    },
    {
     "name": "stdout",
     "output_type": "stream",
     "text": [
      "Warning: Inconsistent number of test documents found for slice [0:160] across checkpoints (e.g., 153 vs 131). Skipping test batch 0.\n",
      "Warning: Checkpoint 0 returned 0 test documents for slice [160:180]. Skipping test batch 1.\n"
     ]
    },
    {
     "name": "stderr",
     "output_type": "stream",
     "text": [
      "--> Calculate train influences (per doc)...:  26%|██▋       | 5/19 [02:00<05:37, 24.09s/it]"
     ]
    },
    {
     "name": "stdout",
     "output_type": "stream",
     "text": [
      "Warning: Inconsistent number of test documents found for slice [0:160] across checkpoints (e.g., 153 vs 131). Skipping test batch 0.\n",
      "Warning: Checkpoint 0 returned 0 test documents for slice [160:180]. Skipping test batch 1.\n"
     ]
    },
    {
     "name": "stderr",
     "output_type": "stream",
     "text": [
      "--> Calculate train influences (per doc)...:  32%|███▏      | 6/19 [02:25<05:16, 24.35s/it]"
     ]
    },
    {
     "name": "stdout",
     "output_type": "stream",
     "text": [
      "Warning: Inconsistent number of test documents found for slice [0:160] across checkpoints (e.g., 153 vs 131). Skipping test batch 0.\n",
      "Warning: Checkpoint 0 returned 0 test documents for slice [160:180]. Skipping test batch 1.\n"
     ]
    },
    {
     "name": "stderr",
     "output_type": "stream",
     "text": [
      "--> Calculate train influences (per doc)...:  37%|███▋      | 7/19 [02:49<04:51, 24.30s/it]"
     ]
    },
    {
     "name": "stdout",
     "output_type": "stream",
     "text": [
      "Warning: Inconsistent number of test documents found for slice [0:160] across checkpoints (e.g., 153 vs 131). Skipping test batch 0.\n",
      "Warning: Checkpoint 0 returned 0 test documents for slice [160:180]. Skipping test batch 1.\n"
     ]
    },
    {
     "name": "stderr",
     "output_type": "stream",
     "text": [
      "--> Calculate train influences (per doc)...:  42%|████▏     | 8/19 [03:13<04:25, 24.10s/it]"
     ]
    },
    {
     "name": "stdout",
     "output_type": "stream",
     "text": [
      "Warning: Inconsistent number of test documents found for slice [0:160] across checkpoints (e.g., 153 vs 131). Skipping test batch 0.\n",
      "Warning: Checkpoint 0 returned 0 test documents for slice [160:180]. Skipping test batch 1.\n"
     ]
    },
    {
     "name": "stderr",
     "output_type": "stream",
     "text": [
      "--> Calculate train influences (per doc)...:  47%|████▋     | 9/19 [03:36<03:59, 23.99s/it]"
     ]
    },
    {
     "name": "stdout",
     "output_type": "stream",
     "text": [
      "Warning: Inconsistent number of test documents found for slice [0:160] across checkpoints (e.g., 153 vs 131). Skipping test batch 0.\n",
      "Warning: Checkpoint 0 returned 0 test documents for slice [160:180]. Skipping test batch 1.\n"
     ]
    },
    {
     "name": "stderr",
     "output_type": "stream",
     "text": [
      "--> Calculate train influences (per doc)...:  53%|█████▎    | 10/19 [04:00<03:34, 23.88s/it]"
     ]
    },
    {
     "name": "stdout",
     "output_type": "stream",
     "text": [
      "Warning: Inconsistent number of test documents found for slice [0:160] across checkpoints (e.g., 153 vs 131). Skipping test batch 0.\n",
      "Warning: Checkpoint 0 returned 0 test documents for slice [160:180]. Skipping test batch 1.\n"
     ]
    },
    {
     "name": "stderr",
     "output_type": "stream",
     "text": [
      "--> Calculate train influences (per doc)...:  58%|█████▊    | 11/19 [04:24<03:10, 23.83s/it]"
     ]
    },
    {
     "name": "stdout",
     "output_type": "stream",
     "text": [
      "Warning: Inconsistent number of test documents found for slice [0:160] across checkpoints (e.g., 153 vs 131). Skipping test batch 0.\n",
      "Warning: Checkpoint 0 returned 0 test documents for slice [160:180]. Skipping test batch 1.\n"
     ]
    },
    {
     "name": "stderr",
     "output_type": "stream",
     "text": [
      "--> Calculate train influences (per doc)...:  63%|██████▎   | 12/19 [04:48<02:48, 24.01s/it]"
     ]
    },
    {
     "name": "stdout",
     "output_type": "stream",
     "text": [
      "Warning: Inconsistent number of test documents found for slice [0:160] across checkpoints (e.g., 153 vs 131). Skipping test batch 0.\n",
      "Warning: Checkpoint 0 returned 0 test documents for slice [160:180]. Skipping test batch 1.\n"
     ]
    },
    {
     "name": "stderr",
     "output_type": "stream",
     "text": [
      "--> Calculate train influences (per doc)...:  68%|██████▊   | 13/19 [05:12<02:23, 23.95s/it]"
     ]
    },
    {
     "name": "stdout",
     "output_type": "stream",
     "text": [
      "Warning: Inconsistent number of test documents found for slice [0:160] across checkpoints (e.g., 153 vs 131). Skipping test batch 0.\n",
      "Warning: Checkpoint 0 returned 0 test documents for slice [160:180]. Skipping test batch 1.\n"
     ]
    },
    {
     "name": "stderr",
     "output_type": "stream",
     "text": [
      "--> Calculate train influences (per doc)...:  74%|███████▎  | 14/19 [05:36<01:59, 23.89s/it]"
     ]
    },
    {
     "name": "stdout",
     "output_type": "stream",
     "text": [
      "Warning: Inconsistent number of test documents found for slice [0:160] across checkpoints (e.g., 153 vs 131). Skipping test batch 0.\n",
      "Warning: Checkpoint 0 returned 0 test documents for slice [160:180]. Skipping test batch 1.\n"
     ]
    },
    {
     "name": "stderr",
     "output_type": "stream",
     "text": [
      "--> Calculate train influences (per doc)...:  79%|███████▉  | 15/19 [06:00<01:35, 23.85s/it]"
     ]
    },
    {
     "name": "stdout",
     "output_type": "stream",
     "text": [
      "Warning: Inconsistent number of test documents found for slice [0:160] across checkpoints (e.g., 153 vs 131). Skipping test batch 0.\n",
      "Warning: Checkpoint 0 returned 0 test documents for slice [160:180]. Skipping test batch 1.\n"
     ]
    },
    {
     "name": "stderr",
     "output_type": "stream",
     "text": [
      "--> Calculate train influences (per doc)...:  84%|████████▍ | 16/19 [06:23<01:11, 23.79s/it]"
     ]
    },
    {
     "name": "stdout",
     "output_type": "stream",
     "text": [
      "Warning: Inconsistent number of test documents found for slice [0:160] across checkpoints (e.g., 153 vs 131). Skipping test batch 0.\n",
      "Warning: Checkpoint 0 returned 0 test documents for slice [160:180]. Skipping test batch 1.\n"
     ]
    },
    {
     "name": "stderr",
     "output_type": "stream",
     "text": [
      "--> Calculate train influences (per doc)...:  89%|████████▉ | 17/19 [06:47<00:47, 23.85s/it]"
     ]
    },
    {
     "name": "stdout",
     "output_type": "stream",
     "text": [
      "Warning: Inconsistent number of test documents found for slice [0:160] across checkpoints (e.g., 153 vs 131). Skipping test batch 0.\n",
      "Warning: Checkpoint 0 returned 0 test documents for slice [160:180]. Skipping test batch 1.\n"
     ]
    },
    {
     "name": "stderr",
     "output_type": "stream",
     "text": [
      "--> Calculate train influences (per doc)...:  95%|█████████▍| 18/19 [07:11<00:23, 23.83s/it]"
     ]
    },
    {
     "name": "stdout",
     "output_type": "stream",
     "text": [
      "Warning: Inconsistent number of test documents found for slice [0:160] across checkpoints (e.g., 153 vs 131). Skipping test batch 0.\n",
      "Warning: Checkpoint 0 returned 0 test documents for slice [160:180]. Skipping test batch 1.\n"
     ]
    },
    {
     "name": "stderr",
     "output_type": "stream",
     "text": [
      "--> Calculate train influences (per doc)...: 100%|██████████| 19/19 [08:02<00:00, 25.41s/it]"
     ]
    },
    {
     "name": "stdout",
     "output_type": "stream",
     "text": [
      "Warning: Inconsistent number of test documents found for slice [0:160] across checkpoints (e.g., 153 vs 131). Skipping test batch 0.\n",
      "Warning: Checkpoint 0 returned 0 test documents for slice [160:180]. Skipping test batch 1.\n"
     ]
    },
    {
     "name": "stderr",
     "output_type": "stream",
     "text": [
      "\n"
     ]
    },
    {
     "data": {
      "text/plain": [
       "tensor([[0., 0., 0.,  ..., 0., 0., 0.],\n",
       "        [0., 0., 0.,  ..., 0., 0., 0.],\n",
       "        [0., 0., 0.,  ..., 0., 0., 0.],\n",
       "        ...,\n",
       "        [0., 0., 0.,  ..., 0., 0., 0.],\n",
       "        [0., 0., 0.,  ..., 0., 0., 0.],\n",
       "        [0., 0., 0.,  ..., 0., 0., 0.]])"
      ]
     },
     "execution_count": 4,
     "metadata": {},
     "output_type": "execute_result"
    }
   ],
   "source": [
    "from autonomos.dart.tracin import vectorized_calculate_tracin_score\n",
    "\n",
    "score_matrix = vectorized_calculate_tracin_score(\n",
    "    dart.model,\n",
    "    dart.loss_func,\n",
    "    list(map(lambda x: x['state_dict'], checkpoints)),\n",
    "    dart.train_dl,\n",
    "    dart.test_dl,\n",
    "    0.0001,\n",
    "    config.data.slate_length,\n",
    "    get_torch_device(),\n",
    "    use_nested_loop_for_dot_product=False,\n",
    "    float_labels=True\n",
    ")\n",
    "\n",
    "score_matrix"
   ]
  },
  {
   "cell_type": "code",
   "execution_count": 6,
   "metadata": {},
   "outputs": [
    {
     "name": "stderr",
     "output_type": "stream",
     "text": [
      "--> Precompute test gradients using checkpoints: 19it [00:17,  1.09it/s]\n",
      "--> Precompute test gradients using checkpoints: 100%|██████████| 19/19 [00:00<00:00, 232.44it/s]\n"
     ]
    },
    {
     "name": "stdout",
     "output_type": "stream",
     "text": [
      "train_grads shape: torch.Size([144, 44121])\n",
      "test_grads shape: torch.Size([16, 44121])\n",
      "train_grads shape: torch.Size([144, 44121])\n",
      "test_grads shape: torch.Size([16, 44121])\n",
      "train_grads shape: torch.Size([144, 44121])\n",
      "test_grads shape: torch.Size([16, 44121])\n",
      "train_grads shape: torch.Size([144, 44121])\n",
      "test_grads shape: torch.Size([16, 44121])\n",
      "train_grads shape: torch.Size([144, 44121])\n",
      "test_grads shape: torch.Size([16, 44121])\n",
      "train_grads shape: torch.Size([144, 44121])\n",
      "test_grads shape: torch.Size([16, 44121])\n",
      "train_grads shape: torch.Size([144, 44121])\n",
      "test_grads shape: torch.Size([16, 44121])\n",
      "train_grads shape: torch.Size([144, 44121])\n",
      "test_grads shape: torch.Size([16, 44121])\n",
      "train_grads shape: torch.Size([144, 44121])\n",
      "test_grads shape: torch.Size([16, 44121])\n",
      "train_grads shape: torch.Size([144, 44121])\n",
      "test_grads shape: torch.Size([16, 44121])\n",
      "train_grads shape: torch.Size([144, 44121])\n",
      "test_grads shape: torch.Size([16, 44121])\n",
      "train_grads shape: torch.Size([144, 44121])\n",
      "test_grads shape: torch.Size([16, 44121])\n",
      "train_grads shape: torch.Size([144, 44121])\n",
      "test_grads shape: torch.Size([16, 44121])\n",
      "train_grads shape: torch.Size([144, 44121])\n",
      "test_grads shape: torch.Size([16, 44121])\n",
      "train_grads shape: torch.Size([144, 44121])\n",
      "test_grads shape: torch.Size([16, 44121])\n",
      "train_grads shape: torch.Size([144, 44121])\n",
      "test_grads shape: torch.Size([16, 44121])\n",
      "train_grads shape: torch.Size([144, 44121])\n",
      "test_grads shape: torch.Size([16, 44121])\n",
      "train_grads shape: torch.Size([144, 44121])\n",
      "test_grads shape: torch.Size([16, 44121])\n",
      "train_grads shape: torch.Size([144, 44121])\n",
      "test_grads shape: torch.Size([16, 44121])\n",
      "score_matrix slice shape: torch.Size([144, 16])\n",
      "grad_sum shape: torch.Size([144, 16])\n"
     ]
    },
    {
     "name": "stderr",
     "output_type": "stream",
     "text": [
      "--> Precompute test gradients using checkpoints: 100%|██████████| 19/19 [00:00<00:00, 1148.66it/s]\n",
      "--> Calculate train...:   5%|▌         | 1/19 [00:15<04:31, 15.07s/it]"
     ]
    },
    {
     "name": "stdout",
     "output_type": "stream",
     "text": [
      "train_grads shape: torch.Size([144, 44121])\n",
      "test_grads shape: torch.Size([16, 44121])\n",
      "train_grads shape: torch.Size([144, 44121])\n",
      "test_grads shape: torch.Size([16, 44121])\n",
      "train_grads shape: torch.Size([144, 44121])\n",
      "test_grads shape: torch.Size([16, 44121])\n",
      "train_grads shape: torch.Size([144, 44121])\n",
      "test_grads shape: torch.Size([16, 44121])\n",
      "train_grads shape: torch.Size([144, 44121])\n",
      "test_grads shape: torch.Size([16, 44121])\n",
      "train_grads shape: torch.Size([144, 44121])\n",
      "test_grads shape: torch.Size([16, 44121])\n",
      "train_grads shape: torch.Size([144, 44121])\n",
      "test_grads shape: torch.Size([16, 44121])\n",
      "train_grads shape: torch.Size([144, 44121])\n",
      "test_grads shape: torch.Size([16, 44121])\n",
      "train_grads shape: torch.Size([144, 44121])\n",
      "test_grads shape: torch.Size([16, 44121])\n",
      "train_grads shape: torch.Size([144, 44121])\n",
      "test_grads shape: torch.Size([16, 44121])\n",
      "train_grads shape: torch.Size([144, 44121])\n",
      "test_grads shape: torch.Size([16, 44121])\n",
      "train_grads shape: torch.Size([144, 44121])\n",
      "test_grads shape: torch.Size([16, 44121])\n",
      "train_grads shape: torch.Size([144, 44121])\n",
      "test_grads shape: torch.Size([16, 44121])\n",
      "train_grads shape: torch.Size([144, 44121])\n",
      "test_grads shape: torch.Size([16, 44121])\n",
      "train_grads shape: torch.Size([144, 44121])\n",
      "test_grads shape: torch.Size([16, 44121])\n",
      "train_grads shape: torch.Size([144, 44121])\n",
      "test_grads shape: torch.Size([16, 44121])\n",
      "train_grads shape: torch.Size([144, 44121])\n",
      "test_grads shape: torch.Size([16, 44121])\n",
      "train_grads shape: torch.Size([144, 44121])\n",
      "test_grads shape: torch.Size([16, 44121])\n",
      "train_grads shape: torch.Size([144, 44121])\n",
      "test_grads shape: torch.Size([16, 44121])\n",
      "score_matrix slice shape: torch.Size([144, 16])\n",
      "grad_sum shape: torch.Size([144, 16])\n"
     ]
    },
    {
     "name": "stderr",
     "output_type": "stream",
     "text": [
      "--> Precompute test gradients using checkpoints: 100%|██████████| 19/19 [00:00<00:00, 447.51it/s]\n"
     ]
    },
    {
     "name": "stdout",
     "output_type": "stream",
     "text": [
      "train_grads shape: torch.Size([144, 44121])\n",
      "test_grads shape: torch.Size([16, 44121])\n",
      "train_grads shape: torch.Size([144, 44121])\n",
      "test_grads shape: torch.Size([16, 44121])\n",
      "train_grads shape: torch.Size([144, 44121])\n",
      "test_grads shape: torch.Size([16, 44121])\n",
      "train_grads shape: torch.Size([144, 44121])\n",
      "test_grads shape: torch.Size([16, 44121])\n",
      "train_grads shape: torch.Size([144, 44121])\n",
      "test_grads shape: torch.Size([16, 44121])\n",
      "train_grads shape: torch.Size([144, 44121])\n",
      "test_grads shape: torch.Size([16, 44121])\n",
      "train_grads shape: torch.Size([144, 44121])\n",
      "test_grads shape: torch.Size([16, 44121])\n",
      "train_grads shape: torch.Size([144, 44121])\n",
      "test_grads shape: torch.Size([16, 44121])\n",
      "train_grads shape: torch.Size([144, 44121])\n",
      "test_grads shape: torch.Size([16, 44121])\n",
      "train_grads shape: torch.Size([144, 44121])\n",
      "test_grads shape: torch.Size([16, 44121])\n",
      "train_grads shape: torch.Size([144, 44121])\n",
      "test_grads shape: torch.Size([16, 44121])\n",
      "train_grads shape: torch.Size([144, 44121])\n",
      "test_grads shape: torch.Size([16, 44121])\n",
      "train_grads shape: torch.Size([144, 44121])\n",
      "test_grads shape: torch.Size([16, 44121])\n",
      "train_grads shape: torch.Size([144, 44121])\n",
      "test_grads shape: torch.Size([16, 44121])\n",
      "train_grads shape: torch.Size([144, 44121])\n",
      "test_grads shape: torch.Size([16, 44121])\n",
      "train_grads shape: torch.Size([144, 44121])\n",
      "test_grads shape: torch.Size([16, 44121])\n",
      "train_grads shape: torch.Size([144, 44121])\n",
      "test_grads shape: torch.Size([16, 44121])\n",
      "train_grads shape: torch.Size([144, 44121])\n",
      "test_grads shape: torch.Size([16, 44121])\n",
      "train_grads shape: torch.Size([144, 44121])\n",
      "test_grads shape: torch.Size([16, 44121])\n",
      "score_matrix slice shape: torch.Size([144, 16])\n",
      "grad_sum shape: torch.Size([144, 16])\n"
     ]
    },
    {
     "name": "stderr",
     "output_type": "stream",
     "text": [
      "--> Precompute test gradients using checkpoints: 100%|██████████| 19/19 [00:00<00:00, 951.62it/s]\n",
      "--> Calculate train...:  11%|█         | 2/19 [00:30<04:19, 15.28s/it]"
     ]
    },
    {
     "name": "stdout",
     "output_type": "stream",
     "text": [
      "train_grads shape: torch.Size([144, 44121])\n",
      "test_grads shape: torch.Size([16, 44121])\n",
      "train_grads shape: torch.Size([144, 44121])\n",
      "test_grads shape: torch.Size([16, 44121])\n",
      "train_grads shape: torch.Size([144, 44121])\n",
      "test_grads shape: torch.Size([16, 44121])\n",
      "train_grads shape: torch.Size([144, 44121])\n",
      "test_grads shape: torch.Size([16, 44121])\n",
      "train_grads shape: torch.Size([144, 44121])\n",
      "test_grads shape: torch.Size([16, 44121])\n",
      "train_grads shape: torch.Size([144, 44121])\n",
      "test_grads shape: torch.Size([16, 44121])\n",
      "train_grads shape: torch.Size([144, 44121])\n",
      "test_grads shape: torch.Size([16, 44121])\n",
      "train_grads shape: torch.Size([144, 44121])\n",
      "test_grads shape: torch.Size([16, 44121])\n",
      "train_grads shape: torch.Size([144, 44121])\n",
      "test_grads shape: torch.Size([16, 44121])\n",
      "train_grads shape: torch.Size([144, 44121])\n",
      "test_grads shape: torch.Size([16, 44121])\n",
      "train_grads shape: torch.Size([144, 44121])\n",
      "test_grads shape: torch.Size([16, 44121])\n",
      "train_grads shape: torch.Size([144, 44121])\n",
      "test_grads shape: torch.Size([16, 44121])\n",
      "train_grads shape: torch.Size([144, 44121])\n",
      "test_grads shape: torch.Size([16, 44121])\n",
      "train_grads shape: torch.Size([144, 44121])\n",
      "test_grads shape: torch.Size([16, 44121])\n",
      "train_grads shape: torch.Size([144, 44121])\n",
      "test_grads shape: torch.Size([16, 44121])\n",
      "train_grads shape: torch.Size([144, 44121])\n",
      "test_grads shape: torch.Size([16, 44121])\n",
      "train_grads shape: torch.Size([144, 44121])\n",
      "test_grads shape: torch.Size([16, 44121])\n",
      "train_grads shape: torch.Size([144, 44121])\n",
      "test_grads shape: torch.Size([16, 44121])\n",
      "train_grads shape: torch.Size([144, 44121])\n",
      "test_grads shape: torch.Size([16, 44121])\n",
      "score_matrix slice shape: torch.Size([144, 16])\n",
      "grad_sum shape: torch.Size([144, 16])\n"
     ]
    },
    {
     "name": "stderr",
     "output_type": "stream",
     "text": [
      "--> Precompute test gradients using checkpoints: 100%|██████████| 19/19 [00:00<00:00, 261.90it/s]\n",
      "--> Calculate train...:  11%|█         | 2/19 [00:45<06:28, 22.87s/it]"
     ]
    },
    {
     "name": "stdout",
     "output_type": "stream",
     "text": [
      "train_grads shape: torch.Size([144, 44121])\n",
      "test_grads shape: torch.Size([16, 44121])\n",
      "train_grads shape: torch.Size([144, 44121])\n",
      "test_grads shape: torch.Size([16, 44121])\n",
      "train_grads shape: torch.Size([144, 44121])\n",
      "test_grads shape: torch.Size([16, 44121])\n",
      "train_grads shape: torch.Size([144, 44121])\n",
      "test_grads shape: torch.Size([16, 44121])\n",
      "train_grads shape: torch.Size([144, 44121])\n",
      "test_grads shape: torch.Size([16, 44121])\n",
      "train_grads shape: torch.Size([144, 44121])\n",
      "test_grads shape: torch.Size([16, 44121])\n",
      "train_grads shape: torch.Size([144, 44121])\n",
      "test_grads shape: torch.Size([16, 44121])\n",
      "train_grads shape: torch.Size([144, 44121])\n",
      "test_grads shape: torch.Size([16, 44121])\n",
      "train_grads shape: torch.Size([144, 44121])\n",
      "test_grads shape: torch.Size([16, 44121])\n",
      "train_grads shape: torch.Size([144, 44121])\n",
      "test_grads shape: torch.Size([16, 44121])\n",
      "train_grads shape: torch.Size([144, 44121])\n",
      "test_grads shape: torch.Size([16, 44121])\n",
      "train_grads shape: torch.Size([144, 44121])\n",
      "test_grads shape: torch.Size([16, 44121])\n",
      "train_grads shape: torch.Size([144, 44121])\n",
      "test_grads shape: torch.Size([16, 44121])\n",
      "train_grads shape: torch.Size([144, 44121])\n",
      "test_grads shape: torch.Size([16, 44121])\n",
      "train_grads shape: torch.Size([144, 44121])\n",
      "test_grads shape: torch.Size([16, 44121])\n",
      "train_grads shape: torch.Size([144, 44121])\n",
      "test_grads shape: torch.Size([16, 44121])\n",
      "train_grads shape: torch.Size([144, 44121])\n",
      "test_grads shape: torch.Size([16, 44121])\n",
      "train_grads shape: torch.Size([144, 44121])\n",
      "test_grads shape: torch.Size([16, 44121])\n",
      "train_grads shape: torch.Size([144, 44121])\n",
      "test_grads shape: torch.Size([16, 44121])\n",
      "score_matrix slice shape: torch.Size([8, 16])\n",
      "grad_sum shape: torch.Size([144, 16])\n"
     ]
    },
    {
     "name": "stderr",
     "output_type": "stream",
     "text": [
      "\n"
     ]
    },
    {
     "ename": "ValueError",
     "evalue": "operands could not be broadcast together with shapes (8,16) (144,16) ",
     "output_type": "error",
     "traceback": [
      "\u001b[0;31m---------------------------------------------------------------------------\u001b[0m",
      "\u001b[0;31mValueError\u001b[0m                                Traceback (most recent call last)",
      "Cell \u001b[0;32mIn[6], line 3\u001b[0m\n\u001b[1;32m      1\u001b[0m \u001b[38;5;28;01mfrom\u001b[39;00m\u001b[38;5;250m \u001b[39m\u001b[38;5;21;01mautonomos\u001b[39;00m\u001b[38;5;21;01m.\u001b[39;00m\u001b[38;5;21;01mdart\u001b[39;00m\u001b[38;5;21;01m.\u001b[39;00m\u001b[38;5;21;01m_tracin\u001b[39;00m\u001b[38;5;250m \u001b[39m\u001b[38;5;28;01mimport\u001b[39;00m tracincp\n\u001b[0;32m----> 3\u001b[0m \u001b[43mtracincp\u001b[49m\u001b[43m(\u001b[49m\u001b[43mconfig\u001b[49m\u001b[43m,\u001b[49m\u001b[43m \u001b[49m\u001b[43mds\u001b[49m\u001b[43m,\u001b[49m\u001b[43m \u001b[49m\u001b[43m{\u001b[49m\n\u001b[1;32m      4\u001b[0m \u001b[43m    \u001b[49m\u001b[38;5;124;43m'\u001b[39;49m\u001b[38;5;124;43mgood1\u001b[39;49m\u001b[38;5;124;43m'\u001b[39;49m\u001b[43m:\u001b[49m\u001b[43m \u001b[49m\u001b[43mget_ctrs\u001b[49m\u001b[43m(\u001b[49m\u001b[43muser_ids\u001b[49m\u001b[43m[\u001b[49m\u001b[38;5;241;43m2\u001b[39;49m\u001b[43m]\u001b[49m\u001b[43m)\u001b[49m\u001b[43m,\u001b[49m\n\u001b[1;32m      5\u001b[0m \u001b[43m    \u001b[49m\u001b[38;5;124;43m'\u001b[39;49m\u001b[38;5;124;43mgood2\u001b[39;49m\u001b[38;5;124;43m'\u001b[39;49m\u001b[43m:\u001b[49m\u001b[43m \u001b[49m\u001b[43mget_ctrs\u001b[49m\u001b[43m(\u001b[49m\u001b[43muser_ids\u001b[49m\u001b[43m[\u001b[49m\u001b[38;5;241;43m3\u001b[39;49m\u001b[43m]\u001b[49m\u001b[43m)\u001b[49m\u001b[43m,\u001b[49m\n\u001b[1;32m      6\u001b[0m \u001b[43m    \u001b[49m\u001b[38;5;124;43m'\u001b[39;49m\u001b[38;5;124;43mevil\u001b[39;49m\u001b[38;5;124;43m'\u001b[39;49m\u001b[43m:\u001b[49m\u001b[43m \u001b[49m\u001b[43mevil_ctrs\u001b[49m\u001b[43m,\u001b[49m\n\u001b[1;32m      7\u001b[0m \u001b[43m    \u001b[49m\u001b[38;5;124;43m'\u001b[39;49m\u001b[38;5;124;43mgood3\u001b[39;49m\u001b[38;5;124;43m'\u001b[39;49m\u001b[43m:\u001b[49m\u001b[43m \u001b[49m\u001b[43mget_ctrs\u001b[49m\u001b[43m(\u001b[49m\u001b[43muser_ids\u001b[49m\u001b[43m[\u001b[49m\u001b[38;5;241;43m4\u001b[39;49m\u001b[43m]\u001b[49m\u001b[43m)\u001b[49m\n\u001b[1;32m      8\u001b[0m \u001b[43m}\u001b[49m\u001b[43m)\u001b[49m\n",
      "File \u001b[0;32m~/Projects/aol4ps-ltr-dataset/autonomos/dart/_tracin.py:159\u001b[0m, in \u001b[0;36mtracincp\u001b[0;34m(config, user_ds, candidate_datasets)\u001b[0m\n\u001b[1;32m    157\u001b[0m     \u001b[38;5;28mprint\u001b[39m(\u001b[38;5;124m\"\u001b[39m\u001b[38;5;124mgrad_sum shape:\u001b[39m\u001b[38;5;124m\"\u001b[39m, grad_sum\u001b[38;5;241m.\u001b[39mshape)\n\u001b[1;32m    158\u001b[0m     \u001b[38;5;66;03m# Filling accumulated gradient sum per particular slice of data\u001b[39;00m\n\u001b[0;32m--> 159\u001b[0m     score_matrix[\n\u001b[1;32m    160\u001b[0m         train_start_idx:train_end_idx, test_start_idx:test_end_idx\n\u001b[1;32m    161\u001b[0m     ] \u001b[38;5;241m+\u001b[39m\u001b[38;5;241m=\u001b[39m grad_sum\u001b[38;5;241m.\u001b[39mcpu()\u001b[38;5;241m.\u001b[39mnumpy()\n\u001b[1;32m    163\u001b[0m \u001b[38;5;66;03m# Increment after processing all test batches for the current train batch\u001b[39;00m\n\u001b[1;32m    164\u001b[0m train_samples_processed \u001b[38;5;241m+\u001b[39m\u001b[38;5;241m=\u001b[39m current_train_batch_size\n",
      "\u001b[0;31mValueError\u001b[0m: operands could not be broadcast together with shapes (8,16) (144,16) "
     ]
    }
   ],
   "source": [
    "from autonomos.dart._tracin import tracincp\n",
    "\n",
    "tracincp(config, ds, {\n",
    "    'good1': get_ctrs(user_ids[2]),\n",
    "    'good2': get_ctrs(user_ids[3]),\n",
    "    'evil': evil_ctrs,\n",
    "    'good3': get_ctrs(user_ids[4])\n",
    "})"
   ]
  },
  {
   "cell_type": "code",
   "execution_count": null,
   "metadata": {},
   "outputs": [],
   "source": []
  }
 ],
 "metadata": {
  "kernelspec": {
   "display_name": "decpy",
   "language": "python",
   "name": "python3"
  },
  "language_info": {
   "codemirror_mode": {
    "name": "ipython",
    "version": 3
   },
   "file_extension": ".py",
   "mimetype": "text/x-python",
   "name": "python",
   "nbconvert_exporter": "python",
   "pygments_lexer": "ipython3",
   "version": "3.9.21"
  }
 },
 "nbformat": 4,
 "nbformat_minor": 2
}
